{
 "cells": [
  {
   "cell_type": "code",
   "execution_count": 8,
   "metadata": {
    "collapsed": false
   },
   "outputs": [],
   "source": [
    "def rename_cols(df, pac='PUR'):\n",
    "    cols = df.columns.values\n",
    "    renamer = {col: col.split('%s_' % pac)[-1].split('_')[0] for col in cols if pac in col}\n",
    "    return df.rename(columns=renamer)"
   ]
  },
  {
   "cell_type": "code",
   "execution_count": 10,
   "metadata": {
    "collapsed": false
   },
   "outputs": [],
   "source": [
    "import get_sc_data as sc\n",
    "x = sc.get_df(\n",
    "    ['XE1T.PUR_DPT288_PMON_A.PI', 'XE1T.PUR_PT287_PPUMP.PI'],\n",
    "    '2019-10-01 19:00:00',\n",
    "    '2019-10-02 19:00:00',\n",
    "    time_interval=60.,\n",
    "    query_type='lab'\n",
    ")\n",
    "x = rename_cols(x)"
   ]
  },
  {
   "cell_type": "code",
   "execution_count": 11,
   "metadata": {
    "collapsed": false
   },
   "outputs": [
    {
     "data": {
      "text/html": [
       "<div>\n",
       "<table border=\"1\" class=\"dataframe\">\n",
       "  <thead>\n",
       "    <tr style=\"text-align: right;\">\n",
       "      <th></th>\n",
       "      <th>DPT288</th>\n",
       "      <th>PT287</th>\n",
       "      <th>time</th>\n",
       "    </tr>\n",
       "  </thead>\n",
       "  <tbody>\n",
       "    <tr>\n",
       "      <th>0</th>\n",
       "      <td>320.0</td>\n",
       "      <td>1.883474</td>\n",
       "      <td>1569949200</td>\n",
       "    </tr>\n",
       "    <tr>\n",
       "      <th>1</th>\n",
       "      <td>320.0</td>\n",
       "      <td>1.882159</td>\n",
       "      <td>1569949260</td>\n",
       "    </tr>\n",
       "    <tr>\n",
       "      <th>2</th>\n",
       "      <td>320.0</td>\n",
       "      <td>1.882159</td>\n",
       "      <td>1569949320</td>\n",
       "    </tr>\n",
       "    <tr>\n",
       "      <th>3</th>\n",
       "      <td>320.0</td>\n",
       "      <td>1.880844</td>\n",
       "      <td>1569949380</td>\n",
       "    </tr>\n",
       "    <tr>\n",
       "      <th>4</th>\n",
       "      <td>320.0</td>\n",
       "      <td>1.880844</td>\n",
       "      <td>1569949440</td>\n",
       "    </tr>\n",
       "  </tbody>\n",
       "</table>\n",
       "</div>"
      ],
      "text/plain": [
       "   DPT288     PT287        time\n",
       "0   320.0  1.883474  1569949200\n",
       "1   320.0  1.882159  1569949260\n",
       "2   320.0  1.882159  1569949320\n",
       "3   320.0  1.880844  1569949380\n",
       "4   320.0  1.880844  1569949440"
      ]
     },
     "execution_count": 11,
     "metadata": {},
     "output_type": "execute_result"
    }
   ],
   "source": [
    "x.head()"
   ]
  },
  {
   "cell_type": "code",
   "execution_count": null,
   "metadata": {
    "collapsed": true
   },
   "outputs": [],
   "source": []
  }
 ],
 "metadata": {
  "kernelspec": {
   "display_name": "Python 3",
   "language": "python",
   "name": "python3"
  },
  "language_info": {
   "codemirror_mode": {
    "name": "ipython",
    "version": 3
   },
   "file_extension": ".py",
   "mimetype": "text/x-python",
   "name": "python",
   "nbconvert_exporter": "python",
   "pygments_lexer": "ipython3",
   "version": "3.4.5"
  }
 },
 "nbformat": 4,
 "nbformat_minor": 0
}
